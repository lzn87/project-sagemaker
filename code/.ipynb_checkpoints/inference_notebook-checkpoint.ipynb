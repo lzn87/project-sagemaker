{
 "cells": [
  {
   "cell_type": "code",
   "execution_count": 8,
   "id": "03d0407c",
   "metadata": {},
   "outputs": [],
   "source": [
    "from inference import *"
   ]
  },
  {
   "cell_type": "code",
   "execution_count": 9,
   "id": "18bc5ad7",
   "metadata": {},
   "outputs": [
    {
     "name": "stdout",
     "output_type": "stream",
     "text": [
      "/home/ec2-user/SageMaker/inference_model/code\n"
     ]
    }
   ],
   "source": [
    "!pwd"
   ]
  },
  {
   "cell_type": "code",
   "execution_count": 17,
   "id": "aeb57bb9",
   "metadata": {},
   "outputs": [
    {
     "name": "stdout",
     "output_type": "stream",
     "text": [
      "import torch\n",
      "from torch import nn\n",
      "from model import *\n",
      "import numpy as np\n",
      "import os\n",
      "\n",
      "class EnsembleModel(nn.Module):\n",
      "    \n",
      "    def __init__(self):\n",
      "        super(EnsembleModel,self).__init__()\n",
      "        self.m1 = get_model('eca_nfnet_l0', None)\n",
      "        self.m2 = get_model('tf_efficientnet_b5_ns', None)\n",
      "        \n",
      "    def forward(self,img,label):\n",
      "        \n",
      "        feat1 = self.m1(img,label)\n",
      "        feat2 = self.m2(img,label)\n",
      "        \n",
      "        return torch.cat((feat1, feat2), dim=1) / 2\n",
      "\n",
      "def model_fn():\n",
      "    model = EnsembleModel()\n",
      "    with open(os.path.join(\"../\", 'model.pth'), 'rb') as f:\n",
      "        model.load_state_dict(torch.load(f).state_dict())\n",
      "#     with torch.no_grad():\n",
      "#         res = model(torch.rand((1, 3, 512, 512)), None)\n",
      "#     print('model created')\n",
      "    return model\n",
      "\n",
      "\n",
      "# def input_fn(request_body, request_content_type):\n",
      "#     \"\"\"An input_fn that loads a pickled tensor\"\"\"\n",
      "# #     return request_body \n",
      "#     if request_content_type == 'application/python-pickle':\n",
      "#         return torch.load(BytesIO(request_body))\n",
      "#     else:\n",
      "#         # Handle other content-types here or raise an Exception\n",
      "#         # if the content type is not supported.\n",
      "#         print('content-types not supported')\n",
      "#         return None\n",
      "    \n",
      "def predict_fn(input_data, model):\n",
      "    device = torch.device('cuda' if torch.cuda.is_available() else 'cpu')\n",
      "    model.to(device)\n",
      "    model.eval()\n",
      "    with torch.no_grad():\n",
      "        return model(input_data.to(device), None)\n",
      "    \n",
      "# def output_fn(prediction, response_content_type):\n",
      "#     return prediction"
     ]
    }
   ],
   "source": [
    "!cat inference.py"
   ]
  },
  {
   "cell_type": "code",
   "execution_count": 15,
   "id": "593eade7",
   "metadata": {},
   "outputs": [
    {
     "ename": "TypeError",
     "evalue": "model_fn() missing 1 required positional argument: 'model_dir'",
     "output_type": "error",
     "traceback": [
      "\u001b[0;31m---------------------------------------------------------------------------\u001b[0m",
      "\u001b[0;31mTypeError\u001b[0m                                 Traceback (most recent call last)",
      "\u001b[0;32m<ipython-input-15-9bed171c79be>\u001b[0m in \u001b[0;36m<module>\u001b[0;34m\u001b[0m\n\u001b[0;32m----> 1\u001b[0;31m \u001b[0mmodel\u001b[0m \u001b[0;34m=\u001b[0m \u001b[0mmodel_fn\u001b[0m\u001b[0;34m(\u001b[0m\u001b[0;34m)\u001b[0m\u001b[0;34m\u001b[0m\u001b[0;34m\u001b[0m\u001b[0m\n\u001b[0m",
      "\u001b[0;31mTypeError\u001b[0m: model_fn() missing 1 required positional argument: 'model_dir'"
     ]
    }
   ],
   "source": [
    "model = model_fn()"
   ]
  },
  {
   "cell_type": "code",
   "execution_count": 14,
   "id": "8b9e1d1d",
   "metadata": {},
   "outputs": [
    {
     "data": {
      "text/plain": [
       "torch.Size([1, 1024])"
      ]
     },
     "execution_count": 14,
     "metadata": {},
     "output_type": "execute_result"
    }
   ],
   "source": [
    "predict_fn(torch.rand(1, 3, 512, 512), model).size()"
   ]
  },
  {
   "cell_type": "code",
   "execution_count": null,
   "id": "7e48ebd9",
   "metadata": {},
   "outputs": [],
   "source": []
  }
 ],
 "metadata": {
  "kernelspec": {
   "display_name": "conda_pytorch_latest_p36",
   "language": "python",
   "name": "conda_pytorch_latest_p36"
  },
  "language_info": {
   "codemirror_mode": {
    "name": "ipython",
    "version": 3
   },
   "file_extension": ".py",
   "mimetype": "text/x-python",
   "name": "python",
   "nbconvert_exporter": "python",
   "pygments_lexer": "ipython3",
   "version": "3.6.13"
  }
 },
 "nbformat": 4,
 "nbformat_minor": 5
}
